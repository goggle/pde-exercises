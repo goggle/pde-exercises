{
 "cells": [
  {
   "cell_type": "markdown",
   "metadata": {},
   "source": [
    "# Finite difference method: Convection diffusion equation in 2D with Neumann boundary conditions\n",
    "\n",
    "Consider the convection diffusion equation \n",
    "$$\n",
    "- \\epsilon \\Delta u + \\frac{\\partial u}{\\partial x} = f \\quad \\text{in } \\Omega = (0,1)^2 \\; ,\n",
    "$$\n",
    "with the boundary conditions\n",
    "$$\n",
    "\\begin{aligned}\n",
    "u(x,0) &= 0, &\\; u(x, 1) &= 0 \\quad \\text{for } x \\in [0, 1] \\; ,\\\\\n",
    "\\frac{\\partial u}{\\partial n}(0, y) &= 0, &\\; \\frac{\\partial u}{\\partial n}(1, y) &= 0 \\quad \\text{for } y \\in (0, 1) \\; .\n",
    "\\end{aligned}\n",
    "$$\n",
    "\n",
    "The Laplace operator should be approximated by the five-point stencil. To discretize $\\frac{\\partial u}{\\partial x}$ use backwards difference quotients. To discretize the Neumann boundary conditions use central difference quotients.\n",
    "\n",
    "As a test problem, use \n",
    "$$\n",
    "f(x,y)\n",
    "= \n",
    "\\begin{cases}\n",
    "\\sqrt{0.1^2 - (x-0.3)^2 - (y-0.2)^2} \\; , & (x-0.3)^2 + (y-0.2)^2 < 0.1^2 \\\\\n",
    "0 \\; , & \\text{else}\n",
    "\\end{cases}\n",
    "$$\n",
    "\n",
    "For $\\epsilon = 1, \\frac{1}{10}, \\frac{1}{100}$ calculate and plot the numerical solution on an equidistant grid with mesh size $h = 2^{-6}$.\n",
    "\n",
    "\n"
   ]
  },
  {
   "cell_type": "markdown",
   "metadata": {},
   "source": [
    "## Solution\n",
    "\n",
    "First let's find out, how many inner points we need to use:"
   ]
  },
  {
   "cell_type": "code",
   "execution_count": 1,
   "metadata": {},
   "outputs": [
    {
     "data": {
      "text/plain": [
       "63"
      ]
     },
     "execution_count": 1,
     "metadata": {},
     "output_type": "execute_result"
    }
   ],
   "source": [
    "epsilons = [1, 0.1, 0.01]\n",
    "h = 1/(2^6)\n",
    "N = convert(Int, floor(1/h - 1))"
   ]
  },
  {
   "cell_type": "code",
   "execution_count": 2,
   "metadata": {},
   "outputs": [],
   "source": [
    "f(x,y) = (v = (0.1^2 - (x-0.3)^2 - (y-0.2)^2)) > 0 ? sqrt(v) : 0;"
   ]
  },
  {
   "cell_type": "markdown",
   "metadata": {},
   "source": [
    "We get the following discretization:\n",
    "$$\n",
    "\\begin{aligned}\n",
    "(4\\epsilon + h) u_{i,j} + (-h-\\epsilon) u_{i-1, j} - \\epsilon u_{i+1, j} - \\epsilon u_{i,j+1} - \\epsilon u_{i,j-1} &= h^2 f_{i,j} \\; , \\quad &\\text{for } i=2,\\ldots, N \\; , j=2, \\ldots, N \\\\\n",
    "u_{i,0} &= 0 \\; , \\quad &\\text{for } i=1, \\ldots, N+1 \\\\\n",
    "u_{i, N+1} &= 0 \\; , \\quad &\\text{for } i=1, \\ldots, N+1 \\\\\n",
    "(4\\epsilon + h) u_{0,j} + (-h-2\\epsilon) u_{1,j} - \\epsilon u_{0, j+1} - \\epsilon u_{0,j-1} &= h^2 f_{i,j} \\; , \\quad &\\text{for } i=0, \\; j=2, \\ldots, N \\\\\n",
    "(4\\epsilon + h) u_{N+1,j}  +(-h - 2\\epsilon) u_{N,j} - \\epsilon u_{N+1,j+1} - \\epsilon u_{N+1, j-1} &= h^2 f_{i,j} \\; , \\quad &\\text{for } i=N+1, \\; j=2, \\ldots, N\n",
    "\\end{aligned}\n",
    "$$\n",
    "\n",
    "We write a function to solve this scheme."
   ]
  },
  {
   "cell_type": "code",
   "execution_count": 3,
   "metadata": {},
   "outputs": [],
   "source": [
    "using SparseArrays\n",
    "function solve(n, f, epsilon)\n",
    "    x = range(0, stop=1, length=n+2)\n",
    "    y = range(0, stop=1, length=n+2)\n",
    "    f_vec = reshape([f(xi, yi) for xi=x, yi=y], :)\n",
    "    f_vec[1:n+2] .= 0\n",
    "    f_vec[(n+2)^2 - n - 1 : (n+2)^2] .= 0\n",
    "    \n",
    "    h = 1 / (n+1)\n",
    "    tot = (n+2)^2\n",
    "    \n",
    "    mdiag = (4epsilon + h)ones(tot)\n",
    "    mdiag[1:n+2] = mdiag[tot - n - 1:tot] .= 1\n",
    "    \n",
    "    udiag = -epsilon * ones(tot)\n",
    "    udiag[1:n+2] = udiag[tot - n - 1:tot] .= 0\n",
    "    udiag[n+3:n+2:tot-n-2] .= -h - 2epsilon\n",
    "    udiag[2n+4:n+2:tot-n-2] .= 0\n",
    "    \n",
    "    ldiag = (-h - epsilon) * ones(tot)\n",
    "    ldiag[1:n+2] = ldiag[tot - n - 1:tot] .= 0\n",
    "    ldiag[n+3:n+2:tot-n-2] .= 0\n",
    "    ldiag[2n+4:n+2:tot-n-2] .= -h - 2epsilon\n",
    "    \n",
    "    uudiag = -epsilon * ones(tot)\n",
    "    uudiag[1:n+2] .= 0\n",
    "    \n",
    "    lldiag = -epsilon * ones(tot)\n",
    "    lldiag[tot - n - 1:tot] .= 0\n",
    "    \n",
    "    pop!(udiag)\n",
    "    popfirst!(ldiag)\n",
    "    for i=1:n+2\n",
    "        pop!(uudiag)\n",
    "        popfirst!(lldiag)\n",
    "    end\n",
    "    \n",
    "    #M = spdiagm((lldiag, ldiag, mdiag, udiag, uudiag), (-n-2, -1, 0, 1, n+2))\n",
    "    M = spdiagm(-n-2 => lldiag, -1 => ldiag, 0 => mdiag, 1 => udiag, n+2 => uudiag)\n",
    "    rhs = h^2 * f_vec\n",
    "    M \\ rhs\n",
    "\n",
    "end\n",
    ";"
   ]
  },
  {
   "cell_type": "markdown",
   "metadata": {},
   "source": [
    "Now we use this function to calculate the numerical solutions for the three different $\\epsilon$."
   ]
  },
  {
   "cell_type": "code",
   "execution_count": 4,
   "metadata": {},
   "outputs": [],
   "source": [
    "numerical_solutions = [solve(N, f, x) for x in epsilons];"
   ]
  },
  {
   "cell_type": "markdown",
   "metadata": {},
   "source": [
    "Now we write functions to visualize these solutions."
   ]
  },
  {
   "cell_type": "code",
   "execution_count": 5,
   "metadata": {},
   "outputs": [],
   "source": [
    "using PyPlot\n",
    "PyPlot.using3D()\n",
    "function plot_3d(numsol, epsilon)\n",
    "    n = convert(Int, floor(sqrt(length(numsol))) - 2)\n",
    "    x = range(0, stop=1, length=n+2)\n",
    "    y = range(0, stop=1, length=n+2)\n",
    "\n",
    "    xgrid = repeat(x', n+2 ,1)\n",
    "    ygrid = repeat(y, 1, n+2)\n",
    "    znum = reshape(numsol, n+2, n+2)'\n",
    "    \n",
    "    fig = figure(\"pyplot_surfaceplot\",figsize=(10,10))\n",
    "    suptitle(string(\"Numerical solution for ϵ = \", epsilon))\n",
    "    ax = fig.add_subplot(2,1,1, projection = \"3d\")\n",
    "    ax.plot_surface(xgrid, ygrid, znum, rstride=2,edgecolors=\"k\", cstride=2, cmap=ColorMap(\"jet\"), alpha=0.8, linewidth=0.25)\n",
    "    xlabel(\"x\")\n",
    "    ylabel(\"y\")\n",
    "    \n",
    "    ax = fig.add_subplot(2,1,2, aspect=\"equal\")\n",
    "    cp = ax.contour(xgrid, ygrid, znum, colors=\"black\", linewidth=2.0)\n",
    "    ax.clabel(cp, inline=1, fontsize=10)\n",
    "    #ax[:axis](\"equal\")\n",
    "    xlabel(\"x\")\n",
    "    ylabel(\"y\")\n",
    "end\n",
    ";"
   ]
  },
  {
   "cell_type": "markdown",
   "metadata": {},
   "source": [
    "We know use this function to visualize the numerical results for $\\epsilon = 1, 0.1, 0.01$."
   ]
  },
  {
   "cell_type": "code",
   "execution_count": null,
   "metadata": {},
   "outputs": [],
   "source": [
    "plot_3d(numerical_solutions[1], epsilons[1]);"
   ]
  },
  {
   "cell_type": "code",
   "execution_count": null,
   "metadata": {},
   "outputs": [],
   "source": [
    "plot_3d(numerical_solutions[2], epsilons[2]);"
   ]
  },
  {
   "cell_type": "code",
   "execution_count": null,
   "metadata": {},
   "outputs": [],
   "source": [
    "plot_3d(numerical_solutions[3], epsilons[3]);"
   ]
  }
 ],
 "metadata": {
  "kernelspec": {
   "display_name": "Julia 1.1.0",
   "language": "julia",
   "name": "julia-1.1"
  },
  "language_info": {
   "file_extension": ".jl",
   "mimetype": "application/julia",
   "name": "julia",
   "version": "1.1.0"
  }
 },
 "nbformat": 4,
 "nbformat_minor": 2
}
