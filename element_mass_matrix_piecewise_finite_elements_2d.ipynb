{
 "cells": [
  {
   "cell_type": "markdown",
   "metadata": {},
   "source": [
    "# Element mass matrix for piecewise linear finite elements\n",
    "\n",
    "We want to calculate the element mass matrices for piecewise linear finite triangular elements. Let $\\hat K$ be the reference element defined by the three corner points $(0,0)$, $(1,0)$, $(0,1)$.\n",
    "\n",
    "The basis function on the reference element $\\hat K$ are given by\n",
    "$$\n",
    "\\begin{align*}\n",
    "N_0(\\xi) &= 1 - \\xi_1 - \\xi_2 \\; ,\\\\\n",
    "N_1(\\xi) &= \\xi_1 \\; ,\\\\\n",
    "N_2(\\xi) &= \\xi_2 \\; .\n",
    "\\end{align*}\n",
    "$$\n",
    "\n",
    "Let $F_K: \\hat K \\to K$, $\\xi \\mapsto P_0 + J_K \\xi$ be the usual affine tranformation. Since\n",
    "$$\n",
    "(M_K)_{i,j} = \\int_K N_i(F_K^{-1}(x)) N_j(F_K^{-1}(x)) \\; \\mathrm dx\n",
    "= \\int_{\\hat K} N_i(\\xi) N_j(\\xi) |\\det J_J| \\; \\mathrm d\\xi \\; ,\n",
    "$$\n",
    "we have\n",
    "$$\n",
    "M_K = M_{\\hat K} |\\det J_K| \\; , \\quad \\text{where } M_{\\hat K} = \\int_{\\hat K} N_i(\\xi) N_j(\\xi) \\; \\mathrm d\\xi \\; ,\n",
    "$$\n",
    "so it's enough to calculate $M_{\\hat K}$."
   ]
  },
  {
   "cell_type": "code",
   "execution_count": 1,
   "metadata": {},
   "outputs": [],
   "source": [
    "from sympy import *\n",
    "init_printing()"
   ]
  },
  {
   "cell_type": "code",
   "execution_count": 2,
   "metadata": {},
   "outputs": [],
   "source": [
    "xi_1, xi_2 = symbols('xi_1  xi_2')"
   ]
  },
  {
   "cell_type": "code",
   "execution_count": 3,
   "metadata": {},
   "outputs": [],
   "source": [
    "N0 = 1 - xi_1 - xi_2\n",
    "N1 = xi_1\n",
    "N2 = xi_2\n",
    "basis = (N0, N1, N2)"
   ]
  },
  {
   "cell_type": "code",
   "execution_count": 4,
   "metadata": {},
   "outputs": [],
   "source": [
    "rows = []\n",
    "for c in range(3):\n",
    "    row = []\n",
    "    for r in range(3):\n",
    "        row.append(integrate(basis[c]*basis[r], (xi_2, 0, 1-xi_1), (xi_1, 0, 1)))\n",
    "    rows.append(row)\n",
    "M_Kref = Matrix(rows)\n",
    "g = gcd(tuple(M_Kref))\n",
    "M_Kref = MatMul(g, M_Kref/g, evaluate=False)"
   ]
  },
  {
   "cell_type": "markdown",
   "metadata": {},
   "source": [
    "The element mass matrix $M_{\\hat K}$ for the reference element $\\hat K$ is given by"
   ]
  },
  {
   "cell_type": "code",
   "execution_count": 5,
   "metadata": {},
   "outputs": [
    {
     "data": {
      "image/png": "[encoded data removed]",
      "text/latex": [
       "$$\\frac{1}{24} \\left[\\begin{matrix}2 & 1 & 1\\\\1 & 2 & 1\\\\1 & 1 & 2\\end{matrix}\\right]$$"
      ],
      "text/plain": [
       "     ⎡2  1  1⎤\n",
       "     ⎢       ⎥\n",
       "1/24⋅⎢1  2  1⎥\n",
       "     ⎢       ⎥\n",
       "     ⎣1  1  2⎦"
      ]
     },
     "execution_count": 5,
     "metadata": {},
     "output_type": "execute_result"
    }
   ],
   "source": [
    "M_Kref"
   ]
  }
 ],
 "metadata": {
  "kernelspec": {
   "display_name": "Python 3",
   "language": "python",
   "name": "python3"
  },
  "language_info": {
   "codemirror_mode": {
    "name": "ipython",
    "version": 3
   },
   "file_extension": ".py",
   "mimetype": "text/x-python",
   "name": "python",
   "nbconvert_exporter": "python",
   "pygments_lexer": "ipython3",
   "version": "3.7.3"
  }
 },
 "nbformat": 4,
 "nbformat_minor": 2
}
