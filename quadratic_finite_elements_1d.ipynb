{
 "cells": [
  {
   "cell_type": "markdown",
   "metadata": {},
   "source": [
    "# Quadratic finite elements in 1D\n",
    "\n",
    "We want to calculate the element stiffness matrices for the model problem\n",
    "$$\n",
    "-u''(x) = f(x) \\, , \\quad \\text{in } \\Omega\n",
    "$$"
   ]
  },
  {
   "cell_type": "code",
   "execution_count": 1,
   "metadata": {},
   "outputs": [],
   "source": [
    "from sympy import *\n",
    "init_printing()"
   ]
  },
  {
   "cell_type": "code",
   "execution_count": 2,
   "metadata": {},
   "outputs": [],
   "source": [
    "a, b, c, xi, h_K = symbols('a, b, c, xi, h_K')"
   ]
  },
  {
   "cell_type": "markdown",
   "metadata": {},
   "source": [
    "Let $\\hat K = (-1,1)$ be the reference element and $K = (x_{j-1}, x_j)$ an arbitrary element. We consider the space\n",
    "$$\n",
    "V_h = \\left\\{v \\in C^0(\\Omega) \\; | \\; v(x) = a + bx + cx^2 \\text{ in } K \\; , v_{|\\partial \\Omega} = 0 \\right\\} \\; .\n",
    "$$\n",
    "\n",
    "On the reference element $\\hat K$, the three basis function $N_0$, $N_1$ and $N_2$ are polynomials of degree 2, satisfying the following properties:\n",
    "$$\n",
    "\\begin{align*}\n",
    "&N_0(-1) = 1 \\; , \\quad &N_0\\left(0\\right) = 0 \\; , \\quad &N_0(1) = 0 \\; , \\\\\n",
    "&N_1(-1) = 0 \\; , \\quad &N_1\\left(0\\right) = 1 \\; , \\quad &N_1(1) = 0 \\; , \\\\\n",
    "&N_2(-1) = 0 \\; , \\quad &N_2\\left(0\\right) = 0 \\; , \\quad &N_2(1) = 1 \\; . \\\\\n",
    "\\end{align*}\n",
    "$$\n",
    "Let us calculate these polynomials."
   ]
  },
  {
   "cell_type": "code",
   "execution_count": 3,
   "metadata": {},
   "outputs": [],
   "source": [
    "coeff = linsolve([a - b + c - 1, a, a + b + c], (a, b, c))\n",
    "pcs = coeff.args[0]\n",
    "N0 = pcs[0] + pcs[1]*xi + pcs[2]*xi**2\n",
    "\n",
    "coeff = linsolve([a - b + c, a - 1, a + b + c], (a, b, c))\n",
    "pcs = coeff.args[0]\n",
    "N1 = pcs[0] + pcs[1]*xi + pcs[2]*xi**2\n",
    "\n",
    "coeff = linsolve([a - b + c, a, a + b + c - 1], (a, b, c))\n",
    "pcs = coeff.args[0]\n",
    "N2 = pcs[0] + pcs[1]*xi + pcs[2]*xi**2"
   ]
  },
  {
   "cell_type": "code",
   "execution_count": 4,
   "metadata": {},
   "outputs": [
    {
     "data": {
      "image/png": "[encoded data removed]",
      "text/latex": [
       "$$\\frac{\\xi^{2}}{2} - \\frac{\\xi}{2}$$"
      ],
      "text/plain": [
       " 2    \n",
       "ξ    ξ\n",
       "── - ─\n",
       "2    2"
      ]
     },
     "execution_count": 4,
     "metadata": {},
     "output_type": "execute_result"
    }
   ],
   "source": [
    "N0"
   ]
  },
  {
   "cell_type": "code",
   "execution_count": 5,
   "metadata": {},
   "outputs": [
    {
     "data": {
      "image/png": "[encoded data removed]",
      "text/latex": [
       "$$- \\xi^{2} + 1$$"
      ],
      "text/plain": [
       "   2    \n",
       "- ξ  + 1"
      ]
     },
     "execution_count": 5,
     "metadata": {},
     "output_type": "execute_result"
    }
   ],
   "source": [
    "N1"
   ]
  },
  {
   "cell_type": "code",
   "execution_count": 6,
   "metadata": {},
   "outputs": [
    {
     "data": {
      "image/png": "[encoded data removed]",
      "text/latex": [
       "$$\\frac{\\xi^{2}}{2} + \\frac{\\xi}{2}$$"
      ],
      "text/plain": [
       " 2    \n",
       "ξ    ξ\n",
       "── + ─\n",
       "2    2"
      ]
     },
     "execution_count": 6,
     "metadata": {},
     "output_type": "execute_result"
    }
   ],
   "source": [
    "N2"
   ]
  },
  {
   "cell_type": "markdown",
   "metadata": {},
   "source": [
    "To calculate the element stiffness matrices, we will need the derivates of these polynomials:"
   ]
  },
  {
   "cell_type": "code",
   "execution_count": 7,
   "metadata": {},
   "outputs": [],
   "source": [
    "N0_diff = diff(N0, xi)\n",
    "N1_diff = diff(N1, xi)\n",
    "N2_diff = diff(N2, xi)\n",
    "diffs = (N0_diff, N1_diff, N2_diff)"
   ]
  },
  {
   "cell_type": "markdown",
   "metadata": {},
   "source": [
    "The entries of the element stiffness matrix of a element $K$ are now given by the formula\n",
    "$$\n",
    "(A_K)_{i,j} = \\frac{2}{h_K} \\int_{\\hat K} N_i'(\\xi) N_j'(\\xi) \\; \\mathrm d\\xi \\; .\n",
    "$$"
   ]
  },
  {
   "cell_type": "code",
   "execution_count": 8,
   "metadata": {
    "scrolled": true
   },
   "outputs": [
    {
     "data": {
      "image/png": "[encoded data removed]",
      "text/latex": [
       "$$\\frac{1}{h_{K}} \\left[\\begin{matrix}\\frac{7}{6} & - \\frac{4}{3} & \\frac{1}{6}\\\\- \\frac{4}{3} & \\frac{8}{3} & - \\frac{4}{3}\\\\\\frac{1}{6} & - \\frac{4}{3} & \\frac{7}{6}\\end{matrix}\\right]$$"
      ],
      "text/plain": [
       "    ⎡7/6   -4/3  1/6 ⎤\n",
       " 1  ⎢                ⎥\n",
       "───⋅⎢-4/3  8/3   -4/3⎥\n",
       "h_K ⎢                ⎥\n",
       "    ⎣1/6   -4/3  7/6 ⎦"
      ]
     },
     "execution_count": 8,
     "metadata": {},
     "output_type": "execute_result"
    }
   ],
   "source": [
    "rows = []\n",
    "for c in range(3):\n",
    "    row = []\n",
    "    for r in range(3):\n",
    "        row.append(1/h_K * integrate(diffs[c]*diffs[r], (xi, -1, 1)))\n",
    "    rows.append(row)\n",
    "A_K = Matrix(rows)\n",
    "g = gcd(tuple(A_K))\n",
    "MatMul(g, A_K/g, evaluate=False)"
   ]
  },
  {
   "cell_type": "markdown",
   "metadata": {},
   "source": [
    "The element load vectors are given by the formula\n",
    "$$\n",
    "(\\ell_K)_i = \\frac{h_K}{2} \\int_{\\hat K} f(F_K(\\xi)) \\cdot N_i(\\xi) \\; \\mathrm d\\xi \\; .\n",
    "$$\n",
    "In general, we need numerical integration to solve these integrals."
   ]
  }
 ],
 "metadata": {
  "kernelspec": {
   "display_name": "Python 3",
   "language": "python",
   "name": "python3"
  },
  "language_info": {
   "codemirror_mode": {
    "name": "ipython",
    "version": 3
   },
   "file_extension": ".py",
   "mimetype": "text/x-python",
   "name": "python",
   "nbconvert_exporter": "python",
   "pygments_lexer": "ipython3",
   "version": "3.7.3"
  }
 },
 "nbformat": 4,
 "nbformat_minor": 2
}
