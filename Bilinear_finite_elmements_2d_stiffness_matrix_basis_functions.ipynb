{
 "cells": [
  {
   "cell_type": "markdown",
   "metadata": {},
   "source": [
    "# Bilinear finite rectangular elements\n",
    "\n",
    "Take the reference element\n",
    "$$\n",
    "\\hat K = \\{ (\\xi, \\eta) \\; | \\; -1 \\leq \\xi, \\eta \\leq 1 \\} \\; .\n",
    "$$\n",
    "The corner points are given by\n",
    "$$\n",
    "\\begin{align*}\n",
    "P_1 &= (-1, -1) \\; , \\\\\n",
    "P_2 &= (1, -1) \\; , \\\\\n",
    "P_3 &= (1, 1) \\; , \\\\\n",
    "P_4 &= (-1, 1) \\; .\n",
    "\\end{align*}\n",
    "$$\n",
    "\n",
    "We want to calculate the bilinear basis functions $\\varphi_i(\\xi, \\eta)$, $i = 1,2,3,4$, and the element stiffness matrix\n",
    "$$\n",
    "(A_{\\hat K})_{i,j} = \\int_{\\hat K} \\nabla \\varphi_i \\cdot \\nabla \\varphi_j \\; , \\quad i,j = 1,2,3,4 \\; .\n",
    "$$"
   ]
  },
  {
   "cell_type": "markdown",
   "metadata": {},
   "source": [
    "The basis functions $\\phi_i$ are of the form\n",
    "$$\n",
    "\\phi_i(\\xi, \\eta) = a + b\\xi + c \\eta + d \\xi \\eta \\; .\n",
    "$$\n",
    "First, we need to find the coefficients $a, b, c, d$."
   ]
  },
  {
   "cell_type": "code",
   "execution_count": 1,
   "metadata": {},
   "outputs": [],
   "source": [
    "from sympy import *\n",
    "init_printing()"
   ]
  },
  {
   "cell_type": "code",
   "execution_count": 2,
   "metadata": {},
   "outputs": [],
   "source": [
    "a, b, c, d, xi, eta = symbols('a, b, c, d, xi, eta')"
   ]
  },
  {
   "cell_type": "code",
   "execution_count": 3,
   "metadata": {},
   "outputs": [],
   "source": [
    "points = [(-1, -1), (1, -1), (1, 1), (-1, 1)]"
   ]
  },
  {
   "cell_type": "code",
   "execution_count": 4,
   "metadata": {},
   "outputs": [
    {
     "data": {
      "image/png": "[encoded data removed]",
      "text/latex": [
       "$$\\left [ \\frac{\\eta \\xi}{4} - \\frac{\\eta}{4} - \\frac{\\xi}{4} + \\frac{1}{4}, \\quad - \\frac{\\eta \\xi}{4} - \\frac{\\eta}{4} + \\frac{\\xi}{4} + \\frac{1}{4}, \\quad \\frac{\\eta \\xi}{4} + \\frac{\\eta}{4} + \\frac{\\xi}{4} + \\frac{1}{4}, \\quad - \\frac{\\eta \\xi}{4} + \\frac{\\eta}{4} - \\frac{\\xi}{4} + \\frac{1}{4}\\right ]$$"
      ],
      "text/plain": [
       "⎡η⋅ξ   η   ξ   1    η⋅ξ   η   ξ   1  η⋅ξ   η   ξ   1    η⋅ξ   η   ξ   1⎤\n",
       "⎢─── - ─ - ─ + ─, - ─── - ─ + ─ + ─, ─── + ─ + ─ + ─, - ─── + ─ - ─ + ─⎥\n",
       "⎣ 4    4   4   4     4    4   4   4   4    4   4   4     4    4   4   4⎦"
      ]
     },
     "execution_count": 4,
     "metadata": {},
     "output_type": "execute_result"
    }
   ],
   "source": [
    "phi = a + b * xi + c * eta + d * xi * eta\n",
    "\n",
    "basis_functions = []\n",
    "for i in range(0, 4):\n",
    "    expressions = []\n",
    "    for j in range(0, 4):\n",
    "        phi_mod = phi.subs({xi: points[j][0], eta: points[j][1]})\n",
    "        if i == j:\n",
    "            phi_mod = phi_mod - 1\n",
    "        expressions.append(phi_mod)\n",
    "    coeffs = linsolve(expressions, (a, b, c, d))\n",
    "    basis_functions.append(coeffs.args[0][0] + coeffs.args[0][1]*xi + coeffs.args[0][2]*eta + coeffs.args[0][3]*xi*eta)\n",
    "basis_functions"
   ]
  },
  {
   "cell_type": "markdown",
   "metadata": {},
   "source": [
    "Now we are able to calculate the element stiffness matrix $A_{\\hat K}$."
   ]
  },
  {
   "cell_type": "code",
   "execution_count": 5,
   "metadata": {},
   "outputs": [
    {
     "data": {
      "image/png": "[encoded data removed]",
      "text/latex": [
       "$$\\frac{1}{6} \\left[\\begin{matrix}4 & -1 & -2 & -1\\\\-1 & 4 & -1 & -2\\\\-2 & -1 & 4 & -1\\\\-1 & -2 & -1 & 4\\end{matrix}\\right]$$"
      ],
      "text/plain": [
       "    ⎡4   -1  -2  -1⎤\n",
       "    ⎢              ⎥\n",
       "    ⎢-1  4   -1  -2⎥\n",
       "1/6⋅⎢              ⎥\n",
       "    ⎢-2  -1  4   -1⎥\n",
       "    ⎢              ⎥\n",
       "    ⎣-1  -2  -1  4 ⎦"
      ]
     },
     "execution_count": 5,
     "metadata": {},
     "output_type": "execute_result"
    }
   ],
   "source": [
    "diffs_xi = [diff(b, xi) for b in basis_functions]\n",
    "diffs_eta = [diff(b, eta) for b in basis_functions]\n",
    "\n",
    "rows = []\n",
    "for c in range(4):\n",
    "    row = []\n",
    "    for r in range(4):\n",
    "        row.append(integrate(diffs_xi[r] * diffs_xi[c] + diffs_eta[r] * diffs_eta[c], (xi, -1, 1), (eta, -1, 1)))\n",
    "    rows.append(row)\n",
    "A_K = Matrix(rows)\n",
    "g = gcd(tuple(A_K))\n",
    "MatMul(g, A_K/g, evaluate=False)"
   ]
  }
 ],
 "metadata": {
  "kernelspec": {
   "display_name": "Python 3",
   "language": "python",
   "name": "python3"
  },
  "language_info": {
   "codemirror_mode": {
    "name": "ipython",
    "version": 3
   },
   "file_extension": ".py",
   "mimetype": "text/x-python",
   "name": "python",
   "nbconvert_exporter": "python",
   "pygments_lexer": "ipython3",
   "version": "3.7.3"
  }
 },
 "nbformat": 4,
 "nbformat_minor": 2
}
